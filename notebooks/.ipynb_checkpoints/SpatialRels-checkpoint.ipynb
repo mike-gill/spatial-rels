{
 "cells": [
  {
   "cell_type": "markdown",
   "id": "ec14558e-71ca-4961-9eff-ee9416ca4115",
   "metadata": {},
   "source": [
    "# Intersects, Contains, Touches, Covered By? Spatial Relationships De-mystified\n",
    "\n",
    "## Purpose\n",
    "Any casual (or not so casual) user of GIS software will soon have a need to filter data spatially\n",
    "- select all the lines interacting with this tile polygon\n",
    "- filter all the addresses within this postcode area\n",
    "- filter all road links intersecting the Wiltshire Council admin unit\n",
    "\n",
    "BUT - the language used above could be ambiguous, and interpreted in different ways\n",
    "- what does 'interacting with' mean\n",
    "  - does it include lines that are largely outside the tile, but have one end point on the boundary of the tile\n",
    "- what does 'within' mean?\n",
    "  - does it include addresses on the boundary?\n",
    "\n",
    "In order to clarify the precise meaning of the spatial relatuionships between features, we need:\n",
    "- an agreed vocabulary of relationships\n",
    "- an agreed set of principles relating the properties of different types of geometries\n",
    "\n",
    "This session will describe:\n",
    "- the meaning of the different types of spatial relationship and when to use them\n",
    "- the spatial theory under-pinning the relationships (DE-9IM)\n",
    "\n",
    "Hopefully this will allow people using geospatial software / libraries to be freed from defaulting to what is seen as the safe option - 'INTERSECT'.\n",
    "\n",
    "\n",
    "  "
   ]
  },
  {
   "cell_type": "markdown",
   "id": "0f700e94-3732-4f6c-8372-ce0ae7abca71",
   "metadata": {},
   "source": [
    "## A Quick Quiz\n",
    "We will look at some common spatial relationship scenarios to establish some terminology and identify some of the ambiguity"
   ]
  },
  {
   "cell_type": "code",
   "execution_count": 1,
   "id": "4f2ab9b0-788c-41b7-8f6b-b38c79b93cb6",
   "metadata": {},
   "outputs": [],
   "source": [
    "import geopandas as gpd\n",
    "from shapely import wkt\n",
    "\n",
    "def create_data_frame(geom_list):\n",
    "    df = gpd.GeoDataFrame(columns=[\"id\", \"geometry\"])\n",
    "    \n",
    "    for i, geom in enumerate(geom_list):\n",
    "        df.loc[i] = [i, geom]\n",
    "        \n",
    "    return df\n"
   ]
  },
  {
   "cell_type": "code",
   "execution_count": 2,
   "id": "f87afc07-99ad-4291-ac95-2be03611577c",
   "metadata": {},
   "outputs": [
    {
     "data": {
      "text/plain": [
       "<AxesSubplot:>"
      ]
     },
     "execution_count": 2,
     "metadata": {},
     "output_type": "execute_result"
    },
    {
     "data": {
      "image/png": "[encoded data removed]",
      "text/plain": [
       "<Figure size 432x288 with 1 Axes>"
      ]
     },
     "metadata": {
      "needs_background": "light"
     },
     "output_type": "display_data"
    }
   ],
   "source": [
    "geom1 = wkt.loads(\"POLYGON((0 0, 10 0, 10 10, 0 10, 0 0))\")\n",
    "geom2 = wkt.loads(\"POLYGON((10 0, 20 0, 20 10, 10 10, 10 0))\")\n",
    "create_data_frame([geom1, geom2]).plot(cmap=\"tab10\", alpha=0.5)"
   ]
  },
  {
   "cell_type": "code",
   "execution_count": 3,
   "id": "1355d6c9-8080-4fbd-9895-8a61c14ed5cd",
   "metadata": {},
   "outputs": [
    {
     "data": {
      "text/plain": [
       "<AxesSubplot:>"
      ]
     },
     "execution_count": 3,
     "metadata": {},
     "output_type": "execute_result"
    },
    {
     "data": {
      "image/png": "[encoded data removed]",
      "text/plain": [
       "<Figure size 432x288 with 1 Axes>"
      ]
     },
     "metadata": {
      "needs_background": "light"
     },
     "output_type": "display_data"
    }
   ],
   "source": [
    "geom1 = wkt.loads(\"POLYGON((0 0, 10 0, 10 10, 0 10, 0 0))\")\n",
    "geom2 = wkt.loads(\"LINESTRING(2 10, 4 10, 5 14)\")\n",
    "create_data_frame([geom1, geom2]).plot(cmap=\"tab10\", alpha=0.5)"
   ]
  },
  {
   "cell_type": "code",
   "execution_count": 4,
   "id": "1e742914-cc18-4951-942b-0d2bd2bf9f2a",
   "metadata": {},
   "outputs": [
    {
     "data": {
      "text/plain": [
       "<AxesSubplot:>"
      ]
     },
     "execution_count": 4,
     "metadata": {},
     "output_type": "execute_result"
    },
    {
     "data": {
      "image/png": "[encoded data removed]",
      "text/plain": [
       "<Figure size 432x288 with 1 Axes>"
      ]
     },
     "metadata": {
      "needs_background": "light"
     },
     "output_type": "display_data"
    }
   ],
   "source": [
    "geom1 = wkt.loads(\"POLYGON((0 0, 10 0, 10 10, 0 10, 0 0))\")\n",
    "geom2 = wkt.loads(\"POINT(0 5)\")\n",
    "create_data_frame([geom1, geom2]).plot(cmap=\"tab10\", alpha=0.5)"
   ]
  },
  {
   "cell_type": "code",
   "execution_count": 5,
   "id": "6cd67268-42ee-41cd-a50c-865c3e135efb",
   "metadata": {},
   "outputs": [
    {
     "data": {
      "text/plain": [
       "True"
      ]
     },
     "execution_count": 5,
     "metadata": {},
     "output_type": "execute_result"
    }
   ],
   "source": [
    "geom1.touches(geom2)"
   ]
  },
  {
   "cell_type": "code",
   "execution_count": 6,
   "id": "5f0dd8da-11d3-44a2-a2d8-27fab92aab39",
   "metadata": {},
   "outputs": [
    {
     "data": {
      "text/plain": [
       "'FF20F1FF2'"
      ]
     },
     "execution_count": 6,
     "metadata": {},
     "output_type": "execute_result"
    }
   ],
   "source": [
    "geom1.relate(geom2)"
   ]
  },
  {
   "cell_type": "markdown",
   "id": "4a6346cb-961c-4321-82b1-40799c3cb425",
   "metadata": {},
   "source": [
    "## Using the Intersection Matrix to Query for Custom Relationships\n",
    "### Example 1:  Selecting features interacting with a tile\n",
    "Sometimes there is a specific spatial relationship you want to filter by for which no pre-cannned named spatial relationship exists. For example:\n",
    "\n",
    "  - for a specific rectangular tile, I want:\n",
    "    - all lines completely within\n",
    "    - all lines within or sharing a segment with the boundary\n",
    "    - all lines partially in and partially out of the tile\n",
    "    \n",
    "  - I do not want:\n",
    "    - lines that are completely outside\n",
    "    - lines that touch the boundary\n",
    "    \n",
    "This could be achieved with a number of separate filters, but the DE-9IM matrix allows us to simplify the problem.\n",
    "      "
   ]
  },
  {
   "cell_type": "code",
   "execution_count": 24,
   "id": "22354e39-fbd4-46df-af32-8194f9476da0",
   "metadata": {},
   "outputs": [
    {
     "data": {
      "text/plain": [
       "<AxesSubplot:>"
      ]
     },
     "execution_count": 24,
     "metadata": {},
     "output_type": "execute_result"
    },
    {
     "data": {
      "image/png": "[encoded data removed]",
      "text/plain": [
       "<Figure size 432x288 with 1 Axes>"
      ]
     },
     "metadata": {
      "needs_background": "light"
     },
     "output_type": "display_data"
    }
   ],
   "source": [
    "tile_geom = wkt.loads(\"POLYGON((0 0, 100 0, 100 100, 0 100, 0 0))\")\n",
    "valid_geoms = [\n",
    "    wkt.loads(\"LINESTRING(0 90, 0 70)\"), # Wholly on boundary\n",
    "    wkt.loads(\"LINESTRING(20 90, 20 70)\"), # Completely inside\n",
    "    wkt.loads(\"LINESTRING(0 60, 0 40, 20 20)\"), # Part on boundary, part inside\n",
    "    wkt.loads(\"LINESTRING(0 30, 0 10, -20 0)\"), # Part on boundary, part outside\n",
    "    wkt.loads(\"LINESTRING(40 90, 40 110)\"), # Crossing part of the tile\n",
    "]\n",
    "invalid_geoms = [\n",
    "    wkt.loads(\"LINESTRING(120 90, 120 70)\"), # Completely outside\n",
    "    wkt.loads(\"LINESTRING(100 60, 120 60)\"), # Endpoint touches boundary, otherwise outside\n",
    "]\n",
    "all_geoms = [tile_geom] + valid_geoms + invalid_geoms\n",
    "create_data_frame(all_geoms).plot(cmap=\"tab10\", alpha=0.5)    "
   ]
  },
  {
   "cell_type": "code",
   "execution_count": 25,
   "id": "83b34acb-9549-4012-8882-ea04cfb4b8a2",
   "metadata": {},
   "outputs": [
    {
     "name": "stdout",
     "output_type": "stream",
     "text": [
      "Valid geometries:\n",
      "Relate pattern: FF2101FF2\n",
      "Relate result: True\n",
      "Relate pattern: 102FF1FF2\n",
      "Relate result: True\n",
      "Relate pattern: 102101FF2\n",
      "Relate result: True\n",
      "Relate pattern: FF2101102\n",
      "Relate result: True\n",
      "Relate pattern: 1020F1102\n",
      "Relate result: True\n",
      "\n",
      "Invalid geometries:\n",
      "Relate pattern: FF2FF1102\n",
      "Relate result: False\n",
      "Relate pattern: FF2F01102\n",
      "Relate result: False\n"
     ]
    }
   ],
   "source": [
    "def test_rels(geom1, geom_list, pattern1, pattern2):\n",
    "    for geom in geom_list:\n",
    "        print(f\"Relate pattern: {tile_geom.relate(geom)}\")\n",
    "        print(f\"Relate result: {tile_geom.relate_pattern(geom, pattern1) or tile_geom.relate_pattern(geom, pattern2)}\")\n",
    "\n",
    "pattern1 = \"1********\"\n",
    "pattern2 = \"***1*****\"\n",
    "\n",
    "print(\"Valid geometries:\")\n",
    "test_rels(tile_geom, valid_geoms, pattern1, pattern2)\n",
    "\n",
    "print(\"\\nInvalid geometries:\")\n",
    "test_rels(tile_geom, invalid_geoms, pattern1, pattern2)"
   ]
  },
  {
   "cell_type": "markdown",
   "id": "59f8ffa3-648a-45c9-98f0-ae8e4238bb0b",
   "metadata": {},
   "source": [
    "### Example 2:  Valid jetties\n",
    "This scenario is where I have a water polygon, and I want to verify that a jetty, represented by a line, is always inside the polygon, one end is in the water, and one end is on the boundary of the water polygon.\n",
    " \n",
    "I do not want:\n",
    "- lines that are completely within the interior\n",
    "- lines that cross the boundary\n",
    "- lines disjoint from the water polygon\n",
    "- lines touching the water polygon    "
   ]
  },
  {
   "cell_type": "code",
   "execution_count": 55,
   "id": "eef737c4-2161-4f20-95f8-05723fa859f7",
   "metadata": {},
   "outputs": [
    {
     "data": {
      "text/plain": [
       "<AxesSubplot:>"
      ]
     },
     "execution_count": 55,
     "metadata": {},
     "output_type": "execute_result"
    },
    {
     "data": {
      "image/png": "[encoded data removed]",
      "text/plain": [
       "<Figure size 432x288 with 1 Axes>"
      ]
     },
     "metadata": {
      "needs_background": "light"
     },
     "output_type": "display_data"
    }
   ],
   "source": [
    "tile_geom = wkt.loads(\"POLYGON((0 0, 100 0, 100 100, 0 100, 0 0))\")\n",
    "valid_geoms = [\n",
    "    wkt.loads(\"LINESTRING(0 40, 20 40)\"), # One end touches, one end in water poly\n",
    "    wkt.loads(\"LINESTRING(0 60, 20 60)\"), # One end touches, one end in water poly\n",
    "]\n",
    "invalid_geoms = [\n",
    "    wkt.loads(\"LINESTRING(70 90, 90 90)\"), # Completely inside\n",
    "    wkt.loads(\"LINESTRING(90 80, 110 80)\"), # Crosses boundary\n",
    "    wkt.loads(\"LINESTRING(110 70, 130 70)\"), # Disjoint\n",
    "    wkt.loads(\"LINESTRING(100 60, 120 60)\"), # Touching\n",
    "]\n",
    "all_geoms = [tile_geom] + valid_geoms + invalid_geoms\n",
    "create_data_frame(all_geoms).plot(cmap=\"tab10\", alpha=0.5)    "
   ]
  },
  {
   "cell_type": "code",
   "execution_count": 56,
   "id": "f177dfe7-f4a2-4051-9a0d-b780b38594c5",
   "metadata": {},
   "outputs": [
    {
     "name": "stdout",
     "output_type": "stream",
     "text": [
      "Valid geometries:\n",
      "Relate pattern: 102F01FF2\n",
      "Relate result: True\n",
      "Relate pattern: 102F01FF2\n",
      "Relate result: True\n",
      "\n",
      "Invalid geometries:\n",
      "Relate pattern: 102FF1FF2\n",
      "Relate result: False\n",
      "Relate pattern: 1020F1102\n",
      "Relate result: False\n",
      "Relate pattern: FF2FF1102\n",
      "Relate result: False\n",
      "Relate pattern: FF2F01102\n",
      "Relate result: False\n"
     ]
    }
   ],
   "source": [
    "def test_rels(geom1, geom_list, pattern1):\n",
    "    for geom in geom_list:\n",
    "        print(f\"Relate pattern: {tile_geom.relate(geom)}\")\n",
    "        print(f\"Relate result: {tile_geom.relate_pattern(geom, pattern1)}\")\n",
    "\n",
    "pattern1 = \"1***0****\"\n",
    "\n",
    "print(\"Valid geometries:\")\n",
    "test_rels(tile_geom, valid_geoms, pattern1)\n",
    "\n",
    "print(\"\\nInvalid geometries:\")\n",
    "test_rels(tile_geom, invalid_geoms, pattern1)"
   ]
  },
  {
   "cell_type": "markdown",
   "id": "229d7795-7e5a-4b8b-bf60-9e6f5e2a0dec",
   "metadata": {},
   "source": [
    "Let's add another invalid case, a line which starts and ends on the boundary of the water polygon"
   ]
  },
  {
   "cell_type": "code",
   "execution_count": 57,
   "id": "67c56836-e777-49e9-b8cb-daef4c0c84d4",
   "metadata": {},
   "outputs": [
    {
     "data": {
      "text/plain": [
       "<AxesSubplot:>"
      ]
     },
     "execution_count": 57,
     "metadata": {},
     "output_type": "execute_result"
    },
    {
     "data": {
      "image/png": "[encoded data removed]",
      "text/plain": [
       "<Figure size 432x288 with 1 Axes>"
      ]
     },
     "metadata": {
      "needs_background": "light"
     },
     "output_type": "display_data"
    }
   ],
   "source": [
    "invalid_geoms = [\n",
    "    wkt.loads(\"LINESTRING(70 90, 90 90)\"), # Completely inside\n",
    "    wkt.loads(\"LINESTRING(90 80, 110 80)\"), # Crosses boundary\n",
    "    wkt.loads(\"LINESTRING(110 70, 130 70)\"), # Disjoint\n",
    "    wkt.loads(\"LINESTRING(100 60, 120 60)\"), # Touching\n",
    "    wkt.loads(\"LINESTRING(80 0, 100 20)\"), # Both ends on boundary\n",
    "]\n",
    "\n",
    "all_geoms = [tile_geom] + valid_geoms + invalid_geoms\n",
    "create_data_frame(all_geoms).plot(cmap=\"tab10\", alpha=0.5)    "
   ]
  },
  {
   "cell_type": "code",
   "execution_count": 58,
   "id": "3fa0a55a-8bcc-4158-a870-5cd3bafe2d72",
   "metadata": {},
   "outputs": [
    {
     "name": "stdout",
     "output_type": "stream",
     "text": [
      "Valid geometries:\n",
      "Relate pattern: 102F01FF2\n",
      "Relate result: True\n",
      "Relate pattern: 102F01FF2\n",
      "Relate result: True\n",
      "\n",
      "Invalid geometries:\n",
      "Relate pattern: 102FF1FF2\n",
      "Relate result: False\n",
      "Relate pattern: 1020F1102\n",
      "Relate result: False\n",
      "Relate pattern: FF2FF1102\n",
      "Relate result: False\n",
      "Relate pattern: FF2F01102\n",
      "Relate result: False\n",
      "Relate pattern: 1F2F01FF2\n",
      "Relate result: True\n"
     ]
    }
   ],
   "source": [
    "pattern1 = \"1***0****\"\n",
    "\n",
    "print(\"Valid geometries:\")\n",
    "test_rels(tile_geom, valid_geoms, pattern1)\n",
    "\n",
    "print(\"\\nInvalid geometries:\")\n",
    "test_rels(tile_geom, invalid_geoms, pattern1)"
   ]
  },
  {
   "cell_type": "markdown",
   "id": "b870f0a4-aeb0-4382-9142-2a2c166aaa77",
   "metadata": {},
   "source": [
    "We need to modify the string to ensure one end (boundary) of the line intersects the interior of the polygon, resulting in a dimension of 0 (a point):"
   ]
  },
  {
   "cell_type": "code",
   "execution_count": 59,
   "id": "65d5350b-a84f-43f9-98de-1d069c45f84a",
   "metadata": {},
   "outputs": [
    {
     "name": "stdout",
     "output_type": "stream",
     "text": [
      "Valid geometries:\n",
      "Relate pattern: 102F01FF2\n",
      "Relate result: True\n",
      "Relate pattern: 102F01FF2\n",
      "Relate result: True\n",
      "\n",
      "Invalid geometries:\n",
      "Relate pattern: 102FF1FF2\n",
      "Relate result: False\n",
      "Relate pattern: 1020F1102\n",
      "Relate result: False\n",
      "Relate pattern: FF2FF1102\n",
      "Relate result: False\n",
      "Relate pattern: FF2F01102\n",
      "Relate result: False\n",
      "Relate pattern: 1F2F01FF2\n",
      "Relate result: False\n"
     ]
    }
   ],
   "source": [
    "#pattern1 = \"1***0****\"\n",
    "pattern1 = \"10**0****\"\n",
    "\n",
    "print(\"Valid geometries:\")\n",
    "test_rels(tile_geom, valid_geoms, pattern1)\n",
    "\n",
    "print(\"\\nInvalid geometries:\")\n",
    "test_rels(tile_geom, invalid_geoms, pattern1)"
   ]
  },
  {
   "cell_type": "markdown",
   "id": "1b191a63-b57c-4f69-b7be-1dfdf4a03934",
   "metadata": {},
   "source": [
    "Let's add another invalid case, a line which shares a segment with the boundary of the water polygon"
   ]
  },
  {
   "cell_type": "code",
   "execution_count": 61,
   "id": "796d4607-f005-41d9-8158-97f9395ddcf1",
   "metadata": {},
   "outputs": [
    {
     "data": {
      "text/plain": [
       "<AxesSubplot:>"
      ]
     },
     "execution_count": 61,
     "metadata": {},
     "output_type": "execute_result"
    },
    {
     "data": {
      "image/png": "[encoded data removed]",
      "text/plain": [
       "<Figure size 432x288 with 1 Axes>"
      ]
     },
     "metadata": {
      "needs_background": "light"
     },
     "output_type": "display_data"
    }
   ],
   "source": [
    "invalid_geoms = [\n",
    "    wkt.loads(\"LINESTRING(70 90, 90 90)\"), # Completely inside\n",
    "    wkt.loads(\"LINESTRING(90 80, 110 80)\"), # Crosses boundary\n",
    "    wkt.loads(\"LINESTRING(110 70, 130 70)\"), # Disjoint\n",
    "    wkt.loads(\"LINESTRING(100 60, 120 60)\"), # Touching\n",
    "    wkt.loads(\"LINESTRING(80 0, 100 20)\"), # Both ends on boundary\n",
    "    wkt.loads(\"LINESTRING(100 50, 100 30, 80 30)\"), # Shares segment with\n",
    "]\n",
    "\n",
    "all_geoms = [tile_geom] + valid_geoms + invalid_geoms\n",
    "create_data_frame(all_geoms).plot(cmap=\"tab10\", alpha=0.5)"
   ]
  },
  {
   "cell_type": "code",
   "execution_count": 62,
   "id": "23a1505d-aa58-4359-bdf4-f3191725d153",
   "metadata": {},
   "outputs": [
    {
     "name": "stdout",
     "output_type": "stream",
     "text": [
      "Valid geometries:\n",
      "Relate pattern: 102F01FF2\n",
      "Relate result: True\n",
      "Relate pattern: 102F01FF2\n",
      "Relate result: True\n",
      "\n",
      "Invalid geometries:\n",
      "Relate pattern: 102FF1FF2\n",
      "Relate result: False\n",
      "Relate pattern: 1020F1102\n",
      "Relate result: False\n",
      "Relate pattern: FF2FF1102\n",
      "Relate result: False\n",
      "Relate pattern: FF2F01102\n",
      "Relate result: False\n",
      "Relate pattern: 1F2F01FF2\n",
      "Relate result: False\n",
      "Relate pattern: 102101FF2\n",
      "Relate result: True\n"
     ]
    }
   ],
   "source": [
    "pattern1 = \"10**0****\"\n",
    "\n",
    "print(\"Valid geometries:\")\n",
    "test_rels(tile_geom, valid_geoms, pattern1)\n",
    "\n",
    "print(\"\\nInvalid geometries:\")\n",
    "test_rels(tile_geom, invalid_geoms, pattern1)"
   ]
  },
  {
   "cell_type": "markdown",
   "id": "2ab541f6-2016-4d0b-bc44-928193f524ea",
   "metadata": {},
   "source": [
    "We need to modify the string to prevent the interaction between the interior of the line and the boundary of the polygon, by adding a 'F' to that element:"
   ]
  },
  {
   "cell_type": "code",
   "execution_count": 63,
   "id": "c45349cb-ffe4-4141-b261-5fa688055077",
   "metadata": {},
   "outputs": [
    {
     "name": "stdout",
     "output_type": "stream",
     "text": [
      "Valid geometries:\n",
      "Relate pattern: 102F01FF2\n",
      "Relate result: True\n",
      "Relate pattern: 102F01FF2\n",
      "Relate result: True\n",
      "\n",
      "Invalid geometries:\n",
      "Relate pattern: 102FF1FF2\n",
      "Relate result: False\n",
      "Relate pattern: 1020F1102\n",
      "Relate result: False\n",
      "Relate pattern: FF2FF1102\n",
      "Relate result: False\n",
      "Relate pattern: FF2F01102\n",
      "Relate result: False\n",
      "Relate pattern: 1F2F01FF2\n",
      "Relate result: False\n",
      "Relate pattern: 102101FF2\n",
      "Relate result: False\n"
     ]
    }
   ],
   "source": [
    "#pattern1 = \"10**0****\"\n",
    "pattern1 = \"10*F0****\"\n",
    "\n",
    "print(\"Valid geometries:\")\n",
    "test_rels(tile_geom, valid_geoms, pattern1)\n",
    "\n",
    "print(\"\\nInvalid geometries:\")\n",
    "test_rels(tile_geom, invalid_geoms, pattern1)"
   ]
  },
  {
   "cell_type": "markdown",
   "id": "9da622d2-7212-40ce-81fe-193fbf03a323",
   "metadata": {},
   "source": [
    "## Useful links\n",
    "[PostGIS DE-9IM documentation](https://postgis.net/workshops/postgis-intro/de9im.html)\n",
    "\n",
    "[Python de9im package](https://pypi.org/project/de9im/) - includes example of how to do 'OR' DE-9IM pattern matching"
   ]
  },
  {
   "cell_type": "code",
   "execution_count": null,
   "id": "9b7cbe8d-09dc-4eb9-839a-0e8fa2991e81",
   "metadata": {},
   "outputs": [],
   "source": []
  },
  {
   "cell_type": "code",
   "execution_count": null,
   "id": "4b5064d0-34e6-441b-b732-1840d6ba75db",
   "metadata": {},
   "outputs": [],
   "source": []
  }
 ],
 "metadata": {
  "kernelspec": {
   "display_name": "Python 3 (ipykernel)",
   "language": "python",
   "name": "python3"
  },
  "language_info": {
   "codemirror_mode": {
    "name": "ipython",
    "version": 3
   },
   "file_extension": ".py",
   "mimetype": "text/x-python",
   "name": "python",
   "nbconvert_exporter": "python",
   "pygments_lexer": "ipython3",
   "version": "3.7.12"
  }
 },
 "nbformat": 4,
 "nbformat_minor": 5
}
